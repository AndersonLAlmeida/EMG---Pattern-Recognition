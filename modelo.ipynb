{
 "cells": [
  {
   "cell_type": "code",
   "execution_count": 1,
   "metadata": {},
   "outputs": [
    {
     "name": "stderr",
     "output_type": "stream",
     "text": [
      "C:\\Users\\ander\\anaconda3\\lib\\site-packages\\tensorflow\\python\\framework\\dtypes.py:516: FutureWarning: Passing (type, 1) or '1type' as a synonym of type is deprecated; in a future version of numpy, it will be understood as (type, (1,)) / '(1,)type'.\n",
      "  _np_qint8 = np.dtype([(\"qint8\", np.int8, 1)])\n",
      "C:\\Users\\ander\\anaconda3\\lib\\site-packages\\tensorflow\\python\\framework\\dtypes.py:517: FutureWarning: Passing (type, 1) or '1type' as a synonym of type is deprecated; in a future version of numpy, it will be understood as (type, (1,)) / '(1,)type'.\n",
      "  _np_quint8 = np.dtype([(\"quint8\", np.uint8, 1)])\n",
      "C:\\Users\\ander\\anaconda3\\lib\\site-packages\\tensorflow\\python\\framework\\dtypes.py:518: FutureWarning: Passing (type, 1) or '1type' as a synonym of type is deprecated; in a future version of numpy, it will be understood as (type, (1,)) / '(1,)type'.\n",
      "  _np_qint16 = np.dtype([(\"qint16\", np.int16, 1)])\n",
      "C:\\Users\\ander\\anaconda3\\lib\\site-packages\\tensorflow\\python\\framework\\dtypes.py:519: FutureWarning: Passing (type, 1) or '1type' as a synonym of type is deprecated; in a future version of numpy, it will be understood as (type, (1,)) / '(1,)type'.\n",
      "  _np_quint16 = np.dtype([(\"quint16\", np.uint16, 1)])\n",
      "C:\\Users\\ander\\anaconda3\\lib\\site-packages\\tensorflow\\python\\framework\\dtypes.py:520: FutureWarning: Passing (type, 1) or '1type' as a synonym of type is deprecated; in a future version of numpy, it will be understood as (type, (1,)) / '(1,)type'.\n",
      "  _np_qint32 = np.dtype([(\"qint32\", np.int32, 1)])\n",
      "C:\\Users\\ander\\anaconda3\\lib\\site-packages\\tensorflow\\python\\framework\\dtypes.py:525: FutureWarning: Passing (type, 1) or '1type' as a synonym of type is deprecated; in a future version of numpy, it will be understood as (type, (1,)) / '(1,)type'.\n",
      "  np_resource = np.dtype([(\"resource\", np.ubyte, 1)])\n",
      "C:\\Users\\ander\\anaconda3\\lib\\site-packages\\tensorboard\\compat\\tensorflow_stub\\dtypes.py:541: FutureWarning: Passing (type, 1) or '1type' as a synonym of type is deprecated; in a future version of numpy, it will be understood as (type, (1,)) / '(1,)type'.\n",
      "  _np_qint8 = np.dtype([(\"qint8\", np.int8, 1)])\n",
      "C:\\Users\\ander\\anaconda3\\lib\\site-packages\\tensorboard\\compat\\tensorflow_stub\\dtypes.py:542: FutureWarning: Passing (type, 1) or '1type' as a synonym of type is deprecated; in a future version of numpy, it will be understood as (type, (1,)) / '(1,)type'.\n",
      "  _np_quint8 = np.dtype([(\"quint8\", np.uint8, 1)])\n",
      "C:\\Users\\ander\\anaconda3\\lib\\site-packages\\tensorboard\\compat\\tensorflow_stub\\dtypes.py:543: FutureWarning: Passing (type, 1) or '1type' as a synonym of type is deprecated; in a future version of numpy, it will be understood as (type, (1,)) / '(1,)type'.\n",
      "  _np_qint16 = np.dtype([(\"qint16\", np.int16, 1)])\n",
      "C:\\Users\\ander\\anaconda3\\lib\\site-packages\\tensorboard\\compat\\tensorflow_stub\\dtypes.py:544: FutureWarning: Passing (type, 1) or '1type' as a synonym of type is deprecated; in a future version of numpy, it will be understood as (type, (1,)) / '(1,)type'.\n",
      "  _np_quint16 = np.dtype([(\"quint16\", np.uint16, 1)])\n",
      "C:\\Users\\ander\\anaconda3\\lib\\site-packages\\tensorboard\\compat\\tensorflow_stub\\dtypes.py:545: FutureWarning: Passing (type, 1) or '1type' as a synonym of type is deprecated; in a future version of numpy, it will be understood as (type, (1,)) / '(1,)type'.\n",
      "  _np_qint32 = np.dtype([(\"qint32\", np.int32, 1)])\n",
      "C:\\Users\\ander\\anaconda3\\lib\\site-packages\\tensorboard\\compat\\tensorflow_stub\\dtypes.py:550: FutureWarning: Passing (type, 1) or '1type' as a synonym of type is deprecated; in a future version of numpy, it will be understood as (type, (1,)) / '(1,)type'.\n",
      "  np_resource = np.dtype([(\"resource\", np.ubyte, 1)])\n"
     ]
    }
   ],
   "source": [
    "# Importar as bibliotecas\n",
    "\n",
    "# -*- coding: utf-8 -*-\n",
    "\n",
    "import numpy as np\n",
    "from timeit import default_timer as timer\n",
    "import random\n",
    "import serial\n",
    "import serial.tools.list_ports\n",
    "import os\n",
    "from math import sqrt\n",
    "import argparse\n",
    "import matplotlib.pyplot as plt\n",
    "import pandas as pd\n",
    "import tensorflow as tf\n",
    "\n",
    "from datetime import datetime\n",
    "from scipy.fft import fft\n",
    "\n",
    "# https://www.linkedin.com/pulse/lendo-arquivos-csv-com-pandas-rog%C3%A9rio-guimar%C3%A3es-de-campos-j%C3%BAnior/\n",
    "# https://stackabuse.com/python-list-files-in-a-directory/"
   ]
  },
  {
   "cell_type": "code",
   "execution_count": 4,
   "metadata": {},
   "outputs": [
    {
     "name": "stdout",
     "output_type": "stream",
     "text": [
      "<class 'pandas.core.frame.DataFrame'>\n",
      "RangeIndex: 19 entries, 0 to 18\n",
      "Data columns (total 5 columns):\n",
      " #   Column    Non-Null Count  Dtype \n",
      "---  ------    --------------  ----- \n",
      " 0   Full      19 non-null     object\n",
      " 1   Part      19 non-null     object\n",
      " 2   RMS       19 non-null     object\n",
      " 3   FFT       2 non-null      object\n",
      " 4   FREQ_FFT  1 non-null      object\n",
      "dtypes: object(5)\n",
      "memory usage: 888.0+ bytes\n"
     ]
    },
    {
     "data": {
      "text/html": [
       "<div>\n",
       "<style scoped>\n",
       "    .dataframe tbody tr th:only-of-type {\n",
       "        vertical-align: middle;\n",
       "    }\n",
       "\n",
       "    .dataframe tbody tr th {\n",
       "        vertical-align: top;\n",
       "    }\n",
       "\n",
       "    .dataframe thead th {\n",
       "        text-align: right;\n",
       "    }\n",
       "</style>\n",
       "<table border=\"1\" class=\"dataframe\">\n",
       "  <thead>\n",
       "    <tr style=\"text-align: right;\">\n",
       "      <th></th>\n",
       "      <th>Full</th>\n",
       "      <th>Part</th>\n",
       "      <th>RMS</th>\n",
       "      <th>FFT</th>\n",
       "      <th>FREQ_FFT</th>\n",
       "    </tr>\n",
       "  </thead>\n",
       "  <tbody>\n",
       "    <tr>\n",
       "      <th>count</th>\n",
       "      <td>19</td>\n",
       "      <td>19</td>\n",
       "      <td>19</td>\n",
       "      <td>2</td>\n",
       "      <td>1</td>\n",
       "    </tr>\n",
       "    <tr>\n",
       "      <th>unique</th>\n",
       "      <td>19</td>\n",
       "      <td>19</td>\n",
       "      <td>19</td>\n",
       "      <td>2</td>\n",
       "      <td>1</td>\n",
       "    </tr>\n",
       "    <tr>\n",
       "      <th>top</th>\n",
       "      <td>[0.0, 0.0, 0.0, 0.0, 0.0, 8.0, 16.0, 16.0, 20....</td>\n",
       "      <td>[2.0, 10.0, 16.0, 18.0, 24.0, 28.0, 32.0, 32.0...</td>\n",
       "      <td>[38.44769173825654, 15.962455951387932, 15.916...</td>\n",
       "      <td>[(5638-0j), (826.5913373081404-245.35572270174...</td>\n",
       "      <td>[0.0, 2.0100502512562812, 4.0201005025125625, ...</td>\n",
       "    </tr>\n",
       "    <tr>\n",
       "      <th>freq</th>\n",
       "      <td>1</td>\n",
       "      <td>1</td>\n",
       "      <td>1</td>\n",
       "      <td>1</td>\n",
       "      <td>1</td>\n",
       "    </tr>\n",
       "  </tbody>\n",
       "</table>\n",
       "</div>"
      ],
      "text/plain": [
       "                                                     Full  \\\n",
       "count                                                  19   \n",
       "unique                                                 19   \n",
       "top     [0.0, 0.0, 0.0, 0.0, 0.0, 8.0, 16.0, 16.0, 20....   \n",
       "freq                                                    1   \n",
       "\n",
       "                                                     Part  \\\n",
       "count                                                  19   \n",
       "unique                                                 19   \n",
       "top     [2.0, 10.0, 16.0, 18.0, 24.0, 28.0, 32.0, 32.0...   \n",
       "freq                                                    1   \n",
       "\n",
       "                                                      RMS  \\\n",
       "count                                                  19   \n",
       "unique                                                 19   \n",
       "top     [38.44769173825654, 15.962455951387932, 15.916...   \n",
       "freq                                                    1   \n",
       "\n",
       "                                                      FFT  \\\n",
       "count                                                   2   \n",
       "unique                                                  2   \n",
       "top     [(5638-0j), (826.5913373081404-245.35572270174...   \n",
       "freq                                                    1   \n",
       "\n",
       "                                                 FREQ_FFT  \n",
       "count                                                   1  \n",
       "unique                                                  1  \n",
       "top     [0.0, 2.0100502512562812, 4.0201005025125625, ...  \n",
       "freq                                                    1  "
      ]
     },
     "metadata": {},
     "output_type": "display_data"
    },
    {
     "data": {
      "text/plain": [
       "Index(['Full', 'Part', 'RMS', 'FFT', 'FREQ_FFT'], dtype='object')"
      ]
     },
     "metadata": {},
     "output_type": "display_data"
    },
    {
     "data": {
      "text/plain": [
       "(19, 5)"
      ]
     },
     "metadata": {},
     "output_type": "display_data"
    }
   ],
   "source": [
    "# Carregar os dados \n",
    "\n",
    "# Definição do paciente e os diretórios\n",
    "nome = \"Anderson\"\n",
    "movimentos = [\"repouso\", \"flexao_polegar\", \"flexao_indicador\", \"flexao_total\", \"extensao_total\"]\n",
    "\n",
    "# Definir DataFrame\n",
    "df = {}\n",
    "\n",
    "# Declarando quais movimentos foram realizados\n",
    "tipo_de_movimento = []\n",
    "relacao_de_movimentos = {\n",
    "    'repouso':0,\n",
    "    'flexao_total':1,\n",
    "    'extensao_total':2,\n",
    "    'flexao_polegar':3,\n",
    "    'flexao_indicador':4,\n",
    "}\n",
    "\n",
    "\n",
    "for movimento in movimentos:\n",
    "    #Caminho dos dados\n",
    "    filename = f\"Dataset\\\\{nome}\\\\{movimento}\\\\dados_{movimento}.csv\"\n",
    "\n",
    "    # Definir lables dos dados\n",
    "    if movimento == \"repouso\":\n",
    "        names = ['Full']\n",
    "    else:\n",
    "        names = ['Full', 'Part', 'RMS', 'FFT', 'FREQ_FFT']\n",
    "    \n",
    "    # Colocar cada Dataframe dentro de um dicionário\n",
    "    df[f'{movimento}'] = pd.read_csv(f\"{filename}\", sep=\";\", header=None, names=names, index_col=None)\n",
    "    \n",
    "    # Extrair quantidade de linhas para cada movimento\n",
    "    height = df[f'{movimento}'].shape()[0]\n",
    "    \n",
    "    # Preencher um vetor com o tipo de movimento\n",
    "    for row in range(0, height):\n",
    "        tipo_de_movimento.append(relacao_de_movimentos[f'{movimento}'])\n",
    "    \n",
    "    df[f'{movimento}']['Tipo_de_Movimento'] = tipo_de_movimento\n",
    "\n",
    "df['extensao_total'].info()\n",
    "display(df['extensao_total'].describe())\n",
    "display(df['extensao_total'].columns)\n",
    "display(df['extensao_total'].shape)\n",
    "\n",
    "# ADICIONAR UMA COLUNA INDICANDO QUAL É O MOVIMENTO REALIZADO DE 0 A 4 DEPENDENDO DE CADA MOVIMENTO"
   ]
  },
  {
   "cell_type": "code",
   "execution_count": 4,
   "metadata": {},
   "outputs": [
    {
     "name": "stdout",
     "output_type": "stream",
     "text": [
      "<class 'pandas.core.frame.DataFrame'>\n",
      "RangeIndex: 19 entries, 0 to 18\n",
      "Data columns (total 5 columns):\n",
      " #   Column    Non-Null Count  Dtype \n",
      "---  ------    --------------  ----- \n",
      " 0   Full      19 non-null     object\n",
      " 1   Part      19 non-null     object\n",
      " 2   RMS       19 non-null     object\n",
      " 3   FFT       2 non-null      object\n",
      " 4   FREQ_FFT  1 non-null      object\n",
      "dtypes: object(5)\n",
      "memory usage: 888.0+ bytes\n"
     ]
    },
    {
     "data": {
      "text/html": [
       "<div>\n",
       "<style scoped>\n",
       "    .dataframe tbody tr th:only-of-type {\n",
       "        vertical-align: middle;\n",
       "    }\n",
       "\n",
       "    .dataframe tbody tr th {\n",
       "        vertical-align: top;\n",
       "    }\n",
       "\n",
       "    .dataframe thead th {\n",
       "        text-align: right;\n",
       "    }\n",
       "</style>\n",
       "<table border=\"1\" class=\"dataframe\">\n",
       "  <thead>\n",
       "    <tr style=\"text-align: right;\">\n",
       "      <th></th>\n",
       "      <th>Full</th>\n",
       "      <th>Part</th>\n",
       "      <th>RMS</th>\n",
       "      <th>FFT</th>\n",
       "      <th>FREQ_FFT</th>\n",
       "    </tr>\n",
       "  </thead>\n",
       "  <tbody>\n",
       "    <tr>\n",
       "      <th>count</th>\n",
       "      <td>19</td>\n",
       "      <td>19</td>\n",
       "      <td>19</td>\n",
       "      <td>2</td>\n",
       "      <td>1</td>\n",
       "    </tr>\n",
       "    <tr>\n",
       "      <th>unique</th>\n",
       "      <td>19</td>\n",
       "      <td>19</td>\n",
       "      <td>19</td>\n",
       "      <td>2</td>\n",
       "      <td>1</td>\n",
       "    </tr>\n",
       "    <tr>\n",
       "      <th>top</th>\n",
       "      <td>[0.0, 0.0, 0.0, 0.0, 0.0, 8.0, 16.0, 16.0, 20....</td>\n",
       "      <td>[2.0, 10.0, 16.0, 18.0, 24.0, 28.0, 32.0, 32.0...</td>\n",
       "      <td>[38.44769173825654, 15.962455951387932, 15.916...</td>\n",
       "      <td>[(5638-0j), (826.5913373081404-245.35572270174...</td>\n",
       "      <td>[0.0, 2.0100502512562812, 4.0201005025125625, ...</td>\n",
       "    </tr>\n",
       "    <tr>\n",
       "      <th>freq</th>\n",
       "      <td>1</td>\n",
       "      <td>1</td>\n",
       "      <td>1</td>\n",
       "      <td>1</td>\n",
       "      <td>1</td>\n",
       "    </tr>\n",
       "  </tbody>\n",
       "</table>\n",
       "</div>"
      ],
      "text/plain": [
       "                                                     Full  \\\n",
       "count                                                  19   \n",
       "unique                                                 19   \n",
       "top     [0.0, 0.0, 0.0, 0.0, 0.0, 8.0, 16.0, 16.0, 20....   \n",
       "freq                                                    1   \n",
       "\n",
       "                                                     Part  \\\n",
       "count                                                  19   \n",
       "unique                                                 19   \n",
       "top     [2.0, 10.0, 16.0, 18.0, 24.0, 28.0, 32.0, 32.0...   \n",
       "freq                                                    1   \n",
       "\n",
       "                                                      RMS  \\\n",
       "count                                                  19   \n",
       "unique                                                 19   \n",
       "top     [38.44769173825654, 15.962455951387932, 15.916...   \n",
       "freq                                                    1   \n",
       "\n",
       "                                                      FFT  \\\n",
       "count                                                   2   \n",
       "unique                                                  2   \n",
       "top     [(5638-0j), (826.5913373081404-245.35572270174...   \n",
       "freq                                                    1   \n",
       "\n",
       "                                                 FREQ_FFT  \n",
       "count                                                   1  \n",
       "unique                                                  1  \n",
       "top     [0.0, 2.0100502512562812, 4.0201005025125625, ...  \n",
       "freq                                                    1  "
      ]
     },
     "metadata": {},
     "output_type": "display_data"
    },
    {
     "data": {
      "text/plain": [
       "Index(['Full', 'Part', 'RMS', 'FFT', 'FREQ_FFT'], dtype='object')"
      ]
     },
     "metadata": {},
     "output_type": "display_data"
    },
    {
     "data": {
      "text/plain": [
       "(19, 5)"
      ]
     },
     "metadata": {},
     "output_type": "display_data"
    }
   ],
   "source": [
    "# Carregar os dados \n",
    "\n",
    "# Definição do paciente e os diretórios\n",
    "nome = \"Fulano\"\n",
    "movimentos = [\"repouso\", \"flexao_polegar\", \"flexao_indicador\", \"flexao_total\", \"extensao_total\"]\n",
    "\n",
    "# Definir DataFrame\n",
    "df = {}\n",
    "\n",
    "# Declarando quais movimentos foram realizados\n",
    "tipo_de_movimento = []\n",
    "relacao_de_movimentos = {\n",
    "    'repouso':0,\n",
    "    'flexao_total':1,\n",
    "    'extensao_total':2,\n",
    "    'flexao_polegar':3,\n",
    "    'flexao_indicador':4,\n",
    "}\n",
    "\n",
    "\n",
    "for movimento in movimentos:\n",
    "    #Caminho dos dados\n",
    "    filename = f\"Dataset\\\\{nome}\\\\{movimento}\\\\dados_{movimento}.csv\"\n",
    "\n",
    "    # Definir lables dos dados\n",
    "    if movimento == \"repouso\":\n",
    "        names = ['Full']\n",
    "    else:\n",
    "        names = ['Full', 'Part', 'RMS', 'FFT', 'FREQ_FFT']\n",
    "    \n",
    "    # Colocar cada Dataframe dentro de um dicionário\n",
    "    df[f'{movimento}'] = pd.read_csv(f\"{filename}\", sep=\";\", header=None, names=names, index_col=None)\n",
    "    \n",
    "    # Extrair quantidade de linhas para cada movimento\n",
    "    height = df[f'{movimento}'].shape()[0]\n",
    "    \n",
    "    # Preencher um vetor com o tipo de movimento\n",
    "    for row in range(0, height):\n",
    "        tipo_de_movimento.append(relacao_de_movimentos[f'{movimento}'])\n",
    "    \n",
    "    df[f'{movimento}']['Tipo_de_Movimento'] = tipo_de_movimento\n",
    "\n",
    "df['extensao_total'].info()\n",
    "display(df['extensao_total'].describe())\n",
    "display(df['extensao_total'].columns)\n",
    "display(df['extensao_total'].shape)\n",
    "\n",
    "# ADICIONAR UMA COLUNA INDICANDO QUAL É O MOVIMENTO REALIZADO DE 0 A 4 DEPENDENDO DE CADA MOVIMENTO"
   ]
  },
  {
   "cell_type": "code",
   "execution_count": 5,
   "metadata": {},
   "outputs": [
    {
     "name": "stdout",
     "output_type": "stream",
     "text": [
      "0\n"
     ]
    }
   ],
   "source": [
    "relacao_de_movimentos = {\n",
    "    'repouso':0,\n",
    "    'felxao':1,\n",
    "    'extensao':2,\n",
    "    'flexao_polegar':3,\n",
    "    'flexao_indicador':4,\n",
    "}\n",
    "\n",
    "print(relacao_de_movimentos['repouso'])"
   ]
  },
  {
   "cell_type": "code",
   "execution_count": 9,
   "metadata": {},
   "outputs": [],
   "source": [
    "# Treinar e Testar\n",
    "from sklearn.model_selection import train_test_split\n",
    "    \n",
    "# https://gusrabbit.com/intuition/treino-teste/"
   ]
  },
  {
   "cell_type": "code",
   "execution_count": 8,
   "metadata": {},
   "outputs": [],
   "source": [
    "# Criar a rede LSTM"
   ]
  },
  {
   "cell_type": "code",
   "execution_count": null,
   "metadata": {},
   "outputs": [],
   "source": [
    "# Criar a rede GRU"
   ]
  },
  {
   "cell_type": "code",
   "execution_count": 10,
   "metadata": {},
   "outputs": [],
   "source": [
    "# Verificar acurácia e perda"
   ]
  }
 ],
 "metadata": {
  "kernelspec": {
   "display_name": "Python 3",
   "language": "python",
   "name": "python3"
  },
  "language_info": {
   "codemirror_mode": {
    "name": "ipython",
    "version": 3
   },
   "file_extension": ".py",
   "mimetype": "text/x-python",
   "name": "python",
   "nbconvert_exporter": "python",
   "pygments_lexer": "ipython3",
   "version": "3.7.6"
  }
 },
 "nbformat": 4,
 "nbformat_minor": 4
}
